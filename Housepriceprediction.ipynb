{
  "cells": [
    {
      "cell_type": "markdown",
      "metadata": {},
      "source": [
        "* Reg. No: 24-27-05\n",
        "* Name: Mahboob Alam\n",
        "* Data Science"
      ]
    },
    {
      "cell_type": "markdown",
      "metadata": {},
      "source": [
        "--------------------------------------------------------------------------"
      ]
    },
    {
      "cell_type": "markdown",
      "metadata": {},
      "source": [
        "### Importing Libraries"
      ]
    },
    {
      "cell_type": "code",
      "execution_count": 1,
      "metadata": {
        "id": "EYiOpUhW0p9d"
      },
      "outputs": [],
      "source": [
        "import numpy as np\n",
        "import pandas as pd\n",
        "from sklearn.metrics import r2_score"
      ]
    },
    {
      "cell_type": "markdown",
      "metadata": {},
      "source": [
        "### Load the dataset"
      ]
    },
    {
      "cell_type": "code",
      "execution_count": 2,
      "metadata": {
        "id": "9YDVhoEW4rMA"
      },
      "outputs": [],
      "source": [
        "df = pd.read_csv('Housepriceprediction.csv')"
      ]
    },
    {
      "cell_type": "code",
      "execution_count": 3,
      "metadata": {
        "colab": {
          "base_uri": "https://localhost:8080/",
          "height": 206
        },
        "id": "sSmClzfT4zFk",
        "outputId": "ec24446f-01fe-4486-dce3-d7efd4285b00"
      },
      "outputs": [
        {
          "data": {
            "text/html": [
              "<div>\n",
              "<style scoped>\n",
              "    .dataframe tbody tr th:only-of-type {\n",
              "        vertical-align: middle;\n",
              "    }\n",
              "\n",
              "    .dataframe tbody tr th {\n",
              "        vertical-align: top;\n",
              "    }\n",
              "\n",
              "    .dataframe thead th {\n",
              "        text-align: right;\n",
              "    }\n",
              "</style>\n",
              "<table border=\"1\" class=\"dataframe\">\n",
              "  <thead>\n",
              "    <tr style=\"text-align: right;\">\n",
              "      <th></th>\n",
              "      <th>Id</th>\n",
              "      <th>LotArea</th>\n",
              "      <th>OverallQual</th>\n",
              "      <th>1stFlrSF</th>\n",
              "      <th>GrLivArea</th>\n",
              "      <th>TotRmsAbvGrd</th>\n",
              "      <th>GarageCars</th>\n",
              "      <th>GarageArea</th>\n",
              "      <th>SalePrice</th>\n",
              "    </tr>\n",
              "  </thead>\n",
              "  <tbody>\n",
              "    <tr>\n",
              "      <th>0</th>\n",
              "      <td>1</td>\n",
              "      <td>8450</td>\n",
              "      <td>7</td>\n",
              "      <td>856</td>\n",
              "      <td>1710</td>\n",
              "      <td>8</td>\n",
              "      <td>2</td>\n",
              "      <td>548</td>\n",
              "      <td>208500</td>\n",
              "    </tr>\n",
              "    <tr>\n",
              "      <th>1</th>\n",
              "      <td>2</td>\n",
              "      <td>9600</td>\n",
              "      <td>6</td>\n",
              "      <td>1262</td>\n",
              "      <td>1262</td>\n",
              "      <td>6</td>\n",
              "      <td>2</td>\n",
              "      <td>460</td>\n",
              "      <td>181500</td>\n",
              "    </tr>\n",
              "    <tr>\n",
              "      <th>2</th>\n",
              "      <td>3</td>\n",
              "      <td>11250</td>\n",
              "      <td>7</td>\n",
              "      <td>920</td>\n",
              "      <td>1786</td>\n",
              "      <td>6</td>\n",
              "      <td>2</td>\n",
              "      <td>608</td>\n",
              "      <td>223500</td>\n",
              "    </tr>\n",
              "    <tr>\n",
              "      <th>3</th>\n",
              "      <td>4</td>\n",
              "      <td>9550</td>\n",
              "      <td>7</td>\n",
              "      <td>961</td>\n",
              "      <td>1717</td>\n",
              "      <td>7</td>\n",
              "      <td>3</td>\n",
              "      <td>642</td>\n",
              "      <td>140000</td>\n",
              "    </tr>\n",
              "    <tr>\n",
              "      <th>4</th>\n",
              "      <td>5</td>\n",
              "      <td>14260</td>\n",
              "      <td>8</td>\n",
              "      <td>1145</td>\n",
              "      <td>2198</td>\n",
              "      <td>9</td>\n",
              "      <td>3</td>\n",
              "      <td>836</td>\n",
              "      <td>250000</td>\n",
              "    </tr>\n",
              "  </tbody>\n",
              "</table>\n",
              "</div>"
            ],
            "text/plain": [
              "   Id  LotArea  OverallQual  1stFlrSF  GrLivArea  TotRmsAbvGrd  GarageCars  \\\n",
              "0   1     8450            7       856       1710             8           2   \n",
              "1   2     9600            6      1262       1262             6           2   \n",
              "2   3    11250            7       920       1786             6           2   \n",
              "3   4     9550            7       961       1717             7           3   \n",
              "4   5    14260            8      1145       2198             9           3   \n",
              "\n",
              "   GarageArea  SalePrice  \n",
              "0         548     208500  \n",
              "1         460     181500  \n",
              "2         608     223500  \n",
              "3         642     140000  \n",
              "4         836     250000  "
            ]
          },
          "execution_count": 3,
          "metadata": {},
          "output_type": "execute_result"
        }
      ],
      "source": [
        "df.head()"
      ]
    },
    {
      "cell_type": "markdown",
      "metadata": {},
      "source": [
        "### Correlation Matrix"
      ]
    },
    {
      "cell_type": "code",
      "execution_count": 4,
      "metadata": {
        "colab": {
          "base_uri": "https://localhost:8080/",
          "height": 331
        },
        "id": "ZkwOTqDtfET7",
        "outputId": "a5f9755e-5cdb-4df2-9c9f-4aa7b41aca84"
      },
      "outputs": [
        {
          "data": {
            "text/html": [
              "<div>\n",
              "<style scoped>\n",
              "    .dataframe tbody tr th:only-of-type {\n",
              "        vertical-align: middle;\n",
              "    }\n",
              "\n",
              "    .dataframe tbody tr th {\n",
              "        vertical-align: top;\n",
              "    }\n",
              "\n",
              "    .dataframe thead th {\n",
              "        text-align: right;\n",
              "    }\n",
              "</style>\n",
              "<table border=\"1\" class=\"dataframe\">\n",
              "  <thead>\n",
              "    <tr style=\"text-align: right;\">\n",
              "      <th></th>\n",
              "      <th>Id</th>\n",
              "      <th>LotArea</th>\n",
              "      <th>OverallQual</th>\n",
              "      <th>1stFlrSF</th>\n",
              "      <th>GrLivArea</th>\n",
              "      <th>TotRmsAbvGrd</th>\n",
              "      <th>GarageCars</th>\n",
              "      <th>GarageArea</th>\n",
              "      <th>SalePrice</th>\n",
              "    </tr>\n",
              "  </thead>\n",
              "  <tbody>\n",
              "    <tr>\n",
              "      <th>Id</th>\n",
              "      <td>1.000000</td>\n",
              "      <td>-0.033226</td>\n",
              "      <td>-0.028365</td>\n",
              "      <td>0.010496</td>\n",
              "      <td>0.008273</td>\n",
              "      <td>0.027239</td>\n",
              "      <td>0.016570</td>\n",
              "      <td>0.017634</td>\n",
              "      <td>-0.021917</td>\n",
              "    </tr>\n",
              "    <tr>\n",
              "      <th>LotArea</th>\n",
              "      <td>-0.033226</td>\n",
              "      <td>1.000000</td>\n",
              "      <td>0.105806</td>\n",
              "      <td>0.299475</td>\n",
              "      <td>0.263116</td>\n",
              "      <td>0.190015</td>\n",
              "      <td>0.154871</td>\n",
              "      <td>0.180403</td>\n",
              "      <td>0.263843</td>\n",
              "    </tr>\n",
              "    <tr>\n",
              "      <th>OverallQual</th>\n",
              "      <td>-0.028365</td>\n",
              "      <td>0.105806</td>\n",
              "      <td>1.000000</td>\n",
              "      <td>0.476224</td>\n",
              "      <td>0.593007</td>\n",
              "      <td>0.427452</td>\n",
              "      <td>0.600671</td>\n",
              "      <td>0.562022</td>\n",
              "      <td>0.790982</td>\n",
              "    </tr>\n",
              "    <tr>\n",
              "      <th>1stFlrSF</th>\n",
              "      <td>0.010496</td>\n",
              "      <td>0.299475</td>\n",
              "      <td>0.476224</td>\n",
              "      <td>1.000000</td>\n",
              "      <td>0.566024</td>\n",
              "      <td>0.409516</td>\n",
              "      <td>0.439317</td>\n",
              "      <td>0.489782</td>\n",
              "      <td>0.605852</td>\n",
              "    </tr>\n",
              "    <tr>\n",
              "      <th>GrLivArea</th>\n",
              "      <td>0.008273</td>\n",
              "      <td>0.263116</td>\n",
              "      <td>0.593007</td>\n",
              "      <td>0.566024</td>\n",
              "      <td>1.000000</td>\n",
              "      <td>0.825489</td>\n",
              "      <td>0.467247</td>\n",
              "      <td>0.468997</td>\n",
              "      <td>0.708624</td>\n",
              "    </tr>\n",
              "    <tr>\n",
              "      <th>TotRmsAbvGrd</th>\n",
              "      <td>0.027239</td>\n",
              "      <td>0.190015</td>\n",
              "      <td>0.427452</td>\n",
              "      <td>0.409516</td>\n",
              "      <td>0.825489</td>\n",
              "      <td>1.000000</td>\n",
              "      <td>0.362289</td>\n",
              "      <td>0.337822</td>\n",
              "      <td>0.533723</td>\n",
              "    </tr>\n",
              "    <tr>\n",
              "      <th>GarageCars</th>\n",
              "      <td>0.016570</td>\n",
              "      <td>0.154871</td>\n",
              "      <td>0.600671</td>\n",
              "      <td>0.439317</td>\n",
              "      <td>0.467247</td>\n",
              "      <td>0.362289</td>\n",
              "      <td>1.000000</td>\n",
              "      <td>0.882475</td>\n",
              "      <td>0.640409</td>\n",
              "    </tr>\n",
              "    <tr>\n",
              "      <th>GarageArea</th>\n",
              "      <td>0.017634</td>\n",
              "      <td>0.180403</td>\n",
              "      <td>0.562022</td>\n",
              "      <td>0.489782</td>\n",
              "      <td>0.468997</td>\n",
              "      <td>0.337822</td>\n",
              "      <td>0.882475</td>\n",
              "      <td>1.000000</td>\n",
              "      <td>0.623431</td>\n",
              "    </tr>\n",
              "    <tr>\n",
              "      <th>SalePrice</th>\n",
              "      <td>-0.021917</td>\n",
              "      <td>0.263843</td>\n",
              "      <td>0.790982</td>\n",
              "      <td>0.605852</td>\n",
              "      <td>0.708624</td>\n",
              "      <td>0.533723</td>\n",
              "      <td>0.640409</td>\n",
              "      <td>0.623431</td>\n",
              "      <td>1.000000</td>\n",
              "    </tr>\n",
              "  </tbody>\n",
              "</table>\n",
              "</div>"
            ],
            "text/plain": [
              "                    Id   LotArea  OverallQual  1stFlrSF  GrLivArea  \\\n",
              "Id            1.000000 -0.033226    -0.028365  0.010496   0.008273   \n",
              "LotArea      -0.033226  1.000000     0.105806  0.299475   0.263116   \n",
              "OverallQual  -0.028365  0.105806     1.000000  0.476224   0.593007   \n",
              "1stFlrSF      0.010496  0.299475     0.476224  1.000000   0.566024   \n",
              "GrLivArea     0.008273  0.263116     0.593007  0.566024   1.000000   \n",
              "TotRmsAbvGrd  0.027239  0.190015     0.427452  0.409516   0.825489   \n",
              "GarageCars    0.016570  0.154871     0.600671  0.439317   0.467247   \n",
              "GarageArea    0.017634  0.180403     0.562022  0.489782   0.468997   \n",
              "SalePrice    -0.021917  0.263843     0.790982  0.605852   0.708624   \n",
              "\n",
              "              TotRmsAbvGrd  GarageCars  GarageArea  SalePrice  \n",
              "Id                0.027239    0.016570    0.017634  -0.021917  \n",
              "LotArea           0.190015    0.154871    0.180403   0.263843  \n",
              "OverallQual       0.427452    0.600671    0.562022   0.790982  \n",
              "1stFlrSF          0.409516    0.439317    0.489782   0.605852  \n",
              "GrLivArea         0.825489    0.467247    0.468997   0.708624  \n",
              "TotRmsAbvGrd      1.000000    0.362289    0.337822   0.533723  \n",
              "GarageCars        0.362289    1.000000    0.882475   0.640409  \n",
              "GarageArea        0.337822    0.882475    1.000000   0.623431  \n",
              "SalePrice         0.533723    0.640409    0.623431   1.000000  "
            ]
          },
          "execution_count": 4,
          "metadata": {},
          "output_type": "execute_result"
        }
      ],
      "source": [
        "df.corr()"
      ]
    },
    {
      "cell_type": "code",
      "execution_count": 5,
      "metadata": {
        "id": "y1YLp3X_51PR"
      },
      "outputs": [],
      "source": [
        "X = df.iloc[:, 1:8]\n",
        "y = df.iloc[:, 8]"
      ]
    },
    {
      "cell_type": "markdown",
      "metadata": {},
      "source": [
        "### train, test, split"
      ]
    },
    {
      "cell_type": "code",
      "execution_count": 6,
      "metadata": {
        "id": "zOjWpL3w68Hv"
      },
      "outputs": [],
      "source": [
        "from sklearn.model_selection import train_test_split\n",
        "X_train, X_test, y_train, y_test = train_test_split(X,y,test_size=0.3,random_state=42)"
      ]
    },
    {
      "cell_type": "markdown",
      "metadata": {},
      "source": [
        "### Sklearn Linear Regression Implementation"
      ]
    },
    {
      "cell_type": "code",
      "execution_count": 7,
      "metadata": {
        "id": "RQskeGrf5oAG"
      },
      "outputs": [],
      "source": [
        "from sklearn.linear_model import LinearRegression"
      ]
    },
    {
      "cell_type": "code",
      "execution_count": 8,
      "metadata": {
        "colab": {
          "base_uri": "https://localhost:8080/"
        },
        "id": "ah3gpnpG5xs9",
        "outputId": "57acd53d-3e42-44d2-a98f-d8cd534e21eb"
      },
      "outputs": [],
      "source": [
        "reg = LinearRegression()\n",
        "reg.fit(X_train, y_train)\n",
        "\n",
        "y_test_pred = reg.predict(X_test)\n",
        "test_r2 = r2_score(y_test, y_test_pred)\n",
        "\n",
        "y_train_pred = reg.predict(X_train)\n",
        "train_r2 = r2_score(y_train, y_train_pred)"
      ]
    },
    {
      "cell_type": "code",
      "execution_count": 9,
      "metadata": {},
      "outputs": [
        {
          "name": "stdout",
          "output_type": "stream",
          "text": [
            "Coefficient of the model:  [ 6.21611012e-01  2.64285222e+04  2.28947647e+01  3.58131307e+01\n",
            " -5.37804999e+02  1.80014152e+04  1.04702988e+01]\n",
            "Intercept of the model:  -102459.18039758943\n"
          ]
        }
      ],
      "source": [
        "print(\"Coefficient of the model: \", reg.coef_)\n",
        "print(\"Intercept of the model: \", reg.intercept_)"
      ]
    },
    {
      "cell_type": "code",
      "execution_count": 10,
      "metadata": {},
      "outputs": [
        {
          "name": "stdout",
          "output_type": "stream",
          "text": [
            "Train R2 Score (Scikit-Learn): 0.7466869932211081\n",
            "Test R2 Score (Scikit-Learn): 0.7865534601474461\n"
          ]
        }
      ],
      "source": [
        "print(\"Train R2 Score (Scikit-Learn):\", train_r2)\n",
        "print(\"Test R2 Score (Scikit-Learn):\", test_r2)"
      ]
    },
    {
      "cell_type": "markdown",
      "metadata": {},
      "source": [
        "### Normal Equation Implementation"
      ]
    },
    {
      "cell_type": "code",
      "execution_count": 11,
      "metadata": {
        "id": "mQTaoIWC5LnT"
      },
      "outputs": [],
      "source": [
        "class NormalEquation:\n",
        "\n",
        "    def __init__(self):\n",
        "        self.coef_ = None\n",
        "        self.intercept_ = None\n",
        "\n",
        "    def fit(self,X_train,y_train):\n",
        "        X_train = np.insert(X_train,0,1,axis=1)\n",
        "\n",
        "        betas = np.linalg.inv(np.dot(X_train.T,X_train)).dot(X_train.T).dot(y_train)\n",
        "        self.intercept_ = betas[0]\n",
        "        self.coef_ = betas[1:]\n",
        "\n",
        "    def predict(self,X_test):\n",
        "        y_pred = np.dot(X_test,self.coef_) + self.intercept_\n",
        "        return y_pred"
      ]
    },
    {
      "cell_type": "code",
      "execution_count": 12,
      "metadata": {
        "id": "sr0gX2Vb9A93"
      },
      "outputs": [],
      "source": [
        "ne = NormalEquation()"
      ]
    },
    {
      "cell_type": "code",
      "execution_count": 13,
      "metadata": {
        "colab": {
          "base_uri": "https://localhost:8080/"
        },
        "id": "F4eLco1Y9Dc0",
        "outputId": "556ba3c4-d707-46c2-8150-199586527637"
      },
      "outputs": [],
      "source": [
        "ne.fit(X_train, y_train)\n",
        "y_test_pred_ne = ne.predict(X_test)\n",
        "test_r2_ne = r2_score(y_test,y_test_pred_ne)\n",
        "\n",
        "y_train_pred = ne.predict(X_train)\n",
        "train_r2_ne = r2_score(y_train, y_train_pred)"
      ]
    },
    {
      "cell_type": "code",
      "execution_count": 14,
      "metadata": {},
      "outputs": [
        {
          "name": "stdout",
          "output_type": "stream",
          "text": [
            "The Coefficient values are:  [ 6.21611012e-01  2.64285222e+04  2.28947647e+01  3.58131307e+01\n",
            " -5.37804999e+02  1.80014152e+04  1.04702988e+01]\n",
            "The Intercept value is:  -102459.18039755838\n"
          ]
        }
      ],
      "source": [
        "print(\"The Coefficient values are: \", ne.coef_)\n",
        "print(\"The Intercept value is: \", ne.intercept_)"
      ]
    },
    {
      "cell_type": "code",
      "execution_count": 15,
      "metadata": {},
      "outputs": [
        {
          "name": "stdout",
          "output_type": "stream",
          "text": [
            "Train R2 Score (Normal Equation): 0.7466869932211081\n",
            "Test R2 Score (Normal Equation): 0.7865534601474289\n"
          ]
        }
      ],
      "source": [
        "print(\"Train R2 Score (Normal Equation):\", train_r2_ne)\n",
        "print(\"Test R2 Score (Normal Equation):\", test_r2_ne)"
      ]
    },
    {
      "cell_type": "markdown",
      "metadata": {},
      "source": [
        "### Gradient Descent Implementation"
      ]
    },
    {
      "cell_type": "code",
      "execution_count": null,
      "metadata": {
        "id": "MuT3HGgu-QHQ"
      },
      "outputs": [],
      "source": [
        "class GradientDescentRegressor:\n",
        "    def __init__(self, learning_rate=0.001, epochs=1000):\n",
        "        self.lr = learning_rate\n",
        "        self.epochs = epochs\n",
        "        self.m = None\n",
        "        self.b = None\n",
        "\n",
        "    def fit(self, X, y):\n",
        "        if isinstance(X, pd.DataFrame):\n",
        "            X = X.to_numpy()\n",
        "        if isinstance(y, pd.Series):\n",
        "            y = y.to_numpy()\n",
        "        \n",
        "        # Normalize features for numerical stability\n",
        "        self.X_mean = np.mean(X, axis=0)\n",
        "        self.X_std = np.std(X, axis=0)\n",
        "        X = (X - self.X_mean) / (self.X_std + 1e-8)\n",
        "        \n",
        "        # Reshape y if needed\n",
        "        if len(y.shape) == 1:\n",
        "            y = y.reshape(-1, 1)\n",
        "        \n",
        "        m_samples, n_features = X.shape\n",
        "        self.m = np.zeros((n_features, 1))\n",
        "        self.b = 0\n",
        "\n",
        "        for _ in range(self.epochs):\n",
        "            y_pred = np.dot(X, self.m) + self.b\n",
        "            \n",
        "            # Compute gradients\n",
        "            loss_slope_m = (-2 / m_samples) * np.dot(X.T, (y - y_pred))\n",
        "            loss_slope_b = (-2 / m_samples) * np.sum(y - y_pred)\n",
        "            \n",
        "            # Update parameters with gradient descent\n",
        "            self.m -= self.lr * loss_slope_m\n",
        "            self.b -= self.lr * loss_slope_b\n",
        "\n",
        "    def predict(self, X):\n",
        "        if isinstance(X, pd.DataFrame):\n",
        "            X = X.to_numpy()\n",
        "        \n",
        "        # Apply same normalization as in training\n",
        "        X = (X - self.X_mean) / (self.X_std + 1e-8)\n",
        "        predictions = np.dot(X, self.m) + self.b\n",
        "        return predictions.reshape(-1)"
      ]
    },
    {
      "cell_type": "code",
      "execution_count": 17,
      "metadata": {
        "colab": {
          "base_uri": "https://localhost:8080/"
        },
        "id": "oCPE7M7uDR1M",
        "outputId": "8c2d0a46-9eca-4a38-be3c-35578c2bc22b"
      },
      "outputs": [],
      "source": [
        "gdr = GradientDescentRegressor(learning_rate=0.1, epochs=50)\n",
        "gdr.fit(X_train, y_train)\n",
        "y_test_pred_gd = gdr.predict(X_test)\n",
        "test_r2_gd = r2_score(y_test, y_test_pred_gd)\n",
        "\n",
        "y_train_pred = gdr.predict(X_train)\n",
        "train_r2_gd = r2_score(y_train, y_train_pred)"
      ]
    },
    {
      "cell_type": "code",
      "execution_count": 18,
      "metadata": {},
      "outputs": [
        {
          "name": "stdout",
          "output_type": "stream",
          "text": [
            "The Theta values are:  [[ 7084.41976986]\n",
            " [36517.53943573]\n",
            " [ 9080.12234658]\n",
            " [17283.67230261]\n",
            " [  511.86830305]\n",
            " [11677.44821281]\n",
            " [ 3773.97587015]]\n",
            "The Intercept value is:  181310.1049780715\n"
          ]
        }
      ],
      "source": [
        "print(\"The Theta values are: \", gdr.m)\n",
        "print(\"The Intercept value is: \", gdr.b)"
      ]
    },
    {
      "cell_type": "code",
      "execution_count": 19,
      "metadata": {},
      "outputs": [
        {
          "name": "stdout",
          "output_type": "stream",
          "text": [
            "Train R2 Score (Gradient Descent): 0.7464981108852599\n",
            "Test R2 Score (Gradient Descent): 0.7864488167634827\n"
          ]
        }
      ],
      "source": [
        "print(\"Train R2 Score (Gradient Descent):\", train_r2_gd)\n",
        "print(\"Test R2 Score (Gradient Descent):\", test_r2_gd)"
      ]
    },
    {
      "cell_type": "markdown",
      "metadata": {},
      "source": [
        "# R2 Score:\n",
        "| Method                  | Train R² Score | Test R² Score |\n",
        "|-------------------------|---------------|--------------|\n",
        "| Gradient Descent       | 0.7465        | 0.7864       |\n",
        "| Normal Equation        | 0.7465        | 0.7864       |\n",
        "| Scikit - learn        | 0.7465        | 0.7864       |"
      ]
    },
    {
      "cell_type": "markdown",
      "metadata": {},
      "source": [
        "# High Correlation Features: \n",
        "    1. OverallQual (0.790982) :\n",
        "        This feature has the highest correlation with house price, indicating that the overall quality of a house  plays a crucial role in determining its value.\n",
        "\n",
        "    2. GrLivArea (0.708624): \n",
        "        The above-ground living area is highly correlated with SalePrice, suggesting that larger living spaces tend to have higher prices.\n",
        "\n",
        "    3. GarageCars (0.640409):\n",
        "        The number of cars a garage can accommodate significantly affects house prices, highlighting the importance of parking space.\n",
        "\n",
        "    4. GarageArea (0.623431):\n",
        "        The total area of the garage also has a strong correlation with SalePrice, further reinforcing the significance of garage size."
      ]
    },
    {
      "cell_type": "markdown",
      "metadata": {},
      "source": [
        "# The final learning of the model: \n",
        "    The final model learned is a linear regression model that predicts SalePrice based on the available features using  Gradient Descent, Normal Equation and Scikit-learn implementation. Since all implementations resulted in the same    R² score, we can confirm that the model is consistent. Since R² scores for train (0.746) and test (0.786) are close, the model generalizes well."
      ]
    }
  ],
  "metadata": {
    "colab": {
      "provenance": []
    },
    "kernelspec": {
      "display_name": "base",
      "language": "python",
      "name": "python3"
    },
    "language_info": {
      "codemirror_mode": {
        "name": "ipython",
        "version": 3
      },
      "file_extension": ".py",
      "mimetype": "text/x-python",
      "name": "python",
      "nbconvert_exporter": "python",
      "pygments_lexer": "ipython3",
      "version": "3.12.3"
    }
  },
  "nbformat": 4,
  "nbformat_minor": 0
}
